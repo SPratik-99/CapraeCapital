{
 "cells": [
  {
   "cell_type": "code",
   "execution_count": 1,
   "id": "6dfb9a3f-68af-4dff-8b7f-931cc299087e",
   "metadata": {},
   "outputs": [],
   "source": [
    "class CompanyResolver:\n",
    "    def resolve(self, name):\n",
    "        # Sample database of companies\n",
    "        companies = {\n",
    "            \"stripe\": {\n",
    "                \"name\": \"Stripe Inc.\",\n",
    "                \"domain\": \"stripe.com\",\n",
    "                \"industry\": \"Fintech\",\n",
    "                \"employees\": \"7000+\"\n",
    "            },\n",
    "            \"airbnb\": {\n",
    "                \"name\": \"Airbnb\",\n",
    "                \"domain\": \"airbnb.com\",\n",
    "                \"industry\": \"Travel Tech\",\n",
    "                \"employees\": \"6500+\"\n",
    "            }\n",
    "        }\n",
    "        return companies.get(name.lower(), {\n",
    "            \"name\": name,\n",
    "            \"domain\": f\"{name.lower()}.com\",\n",
    "            \"industry\": \"Technology\",\n",
    "            \"employees\": \"Unknown\"\n",
    "        })"
   ]
  },
  {
   "cell_type": "code",
   "execution_count": 2,
   "id": "28399959-ed90-4478-98d6-6e024a0b7c4a",
   "metadata": {},
   "outputs": [],
   "source": [
    "class EmailFinder:\n",
    "    def find_emails(self, domain, departments):\n",
    "        # Sample email patterns\n",
    "        patterns = {\n",
    "            \"career\": [f\"careers@{domain}\", f\"jobs@{domain}\"],\n",
    "            \"support\": [f\"help@{domain}\", f\"support@{domain}\"],\n",
    "            \"sales\": [f\"sales@{domain}\", f\"contact@{domain}\"]\n",
    "        }\n",
    "        return {dept: patterns.get(dept, []) for dept in departments}"
   ]
  },
  {
   "cell_type": "code",
   "execution_count": 3,
   "id": "1795ffa5-b6fe-41d2-bda2-cd3b2244e46a",
   "metadata": {},
   "outputs": [],
   "source": [
    "class GeoExpander:\n",
    "    def expand_coverage(self, industry, country):\n",
    "        # Sample expansion data\n",
    "        companies = {\n",
    "            (\"fintech\", \"germany\"): [\n",
    "                {\"name\": \"N26\", \"country\": \"Germany\", \"domain\": \"n26.com\"},\n",
    "                {\"name\": \"Revolut\", \"country\": \"Germany\", \"domain\": \"revolut.com\"}\n",
    "            ],\n",
    "            (\"saas\", \"japan\"): [\n",
    "                {\"name\": \"Salesforce\", \"country\": \"Japan\", \"domain\": \"salesforce.com\"},\n",
    "                {\"name\": \"HubSpot\", \"country\": \"Japan\", \"domain\": \"hubspot.com\"}\n",
    "            ]\n",
    "        }\n",
    "        return companies.get((industry.lower(), country.lower()), [\n",
    "            {\"name\": \"Example Corp\", \"country\": country, \"domain\": \"example.com\"}\n",
    "        ])"
   ]
  },
  {
   "cell_type": "code",
   "execution_count": 5,
   "id": "69d90563-163b-4097-9c47-9e492382ce04",
   "metadata": {},
   "outputs": [
    {
     "name": "stdout",
     "output_type": "stream",
     "text": [
      "🚀 Caprae LeadGen Enhancement Demo\n",
      "==================================================\n",
      "\n"
     ]
    },
    {
     "name": "stdin",
     "output_type": "stream",
     "text": [
      "Enter company name (e.g. Stripe):  Google\n"
     ]
    },
    {
     "name": "stdout",
     "output_type": "stream",
     "text": [
      "\n",
      "🔍 Resolved Company:\n",
      "   - Name: Google\n",
      "   - Domain: google.com\n",
      "   - Industry: Technology\n",
      "   - Employees: Unknown\n"
     ]
    },
    {
     "name": "stdin",
     "output_type": "stream",
     "text": [
      "\n",
      "Enter departments (comma separated):  Careers\n"
     ]
    },
    {
     "name": "stdout",
     "output_type": "stream",
     "text": [
      "\n",
      "✉️ Found Emails:\n",
      "   - Careers:\n"
     ]
    },
    {
     "name": "stdin",
     "output_type": "stream",
     "text": [
      "\n",
      "Enter industry (e.g. Fintech):  Fintech\n",
      "Enter target country (e.g. Germany):  India\n"
     ]
    },
    {
     "name": "stdout",
     "output_type": "stream",
     "text": [
      "\n",
      "🌎 Global Expansion Opportunities in India:\n",
      "   1. Example Corp\n",
      "      Domain: example.com\n",
      "      Country: India\n",
      "\n",
      "✨ Demo Complete!\n"
     ]
    }
   ],
   "source": [
    "\n",
    "\n",
    "def run_demo():\n",
    "    print(\"🚀 Caprae LeadGen Enhancement Demo\")\n",
    "    print(\"=\" * 50 + \"\\n\")\n",
    "    \n",
    "    # 1. Company Resolution\n",
    "    resolver = CompanyResolver()\n",
    "    company_name = input(\"Enter company name (e.g. Stripe): \").strip() or \"Stripe\"\n",
    "    company = resolver.resolve(company_name)\n",
    "    \n",
    "    print(f\"\\n🔍 Resolved Company:\")\n",
    "    print(f\"   - Name: {company['name']}\")\n",
    "    print(f\"   - Domain: {company['domain']}\")\n",
    "    print(f\"   - Industry: {company.get('industry', 'N/A')}\")\n",
    "    print(f\"   - Employees: {company.get('employees', 'N/A')}\")\n",
    "    \n",
    "    # 2. Email Discovery\n",
    "    email_finder = EmailFinder()\n",
    "    departments = input(\"\\nEnter departments (comma separated): \").strip()\n",
    "    dept_list = [d.strip() for d in departments.split(\",\")] if departments else [\"career\", \"support\"]\n",
    "    \n",
    "    emails = email_finder.find_emails(company['domain'], dept_list)\n",
    "    \n",
    "    print(f\"\\n✉️ Found Emails:\")\n",
    "    for dept, addresses in emails.items():\n",
    "        print(f\"   - {dept.capitalize()}:\")\n",
    "        for email in addresses:\n",
    "            print(f\"      • {email}\")\n",
    "    \n",
    "    # 3. Global Expansion\n",
    "    geo = GeoExpander()\n",
    "    industry = input(\"\\nEnter industry (e.g. Fintech): \").strip() or \"Fintech\"\n",
    "    country = input(\"Enter target country (e.g. Germany): \").strip() or \"Germany\"\n",
    "    \n",
    "    expansion = geo.expand_coverage(industry, country)\n",
    "    \n",
    "    print(f\"\\n🌎 Global Expansion Opportunities in {country}:\")\n",
    "    for i, comp in enumerate(expansion, 1):\n",
    "        print(f\"   {i}. {comp['name']}\")\n",
    "        print(f\"      Domain: {comp.get('domain', 'N/A')}\")\n",
    "        print(f\"      Country: {comp['country']}\")\n",
    "    \n",
    "    print(\"\\n✨ Demo Complete!\")\n",
    "\n",
    "if __name__ == \"__main__\":\n",
    "    run_demo()"
   ]
  },
  {
   "cell_type": "code",
   "execution_count": null,
   "id": "1a7464e3-3071-4352-b2a0-39a7e080314a",
   "metadata": {},
   "outputs": [],
   "source": []
  }
 ],
 "metadata": {
  "kernelspec": {
   "display_name": "Python 3 (ipykernel)",
   "language": "python",
   "name": "python3"
  },
  "language_info": {
   "codemirror_mode": {
    "name": "ipython",
    "version": 3
   },
   "file_extension": ".py",
   "mimetype": "text/x-python",
   "name": "python",
   "nbconvert_exporter": "python",
   "pygments_lexer": "ipython3",
   "version": "3.12.1"
  }
 },
 "nbformat": 4,
 "nbformat_minor": 5
}
